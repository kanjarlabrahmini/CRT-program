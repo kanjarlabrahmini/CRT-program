{
  "nbformat": 4,
  "nbformat_minor": 0,
  "metadata": {
    "colab": {
      "name": "4-12-19",
      "provenance": [],
      "collapsed_sections": []
    },
    "kernelspec": {
      "name": "python3",
      "display_name": "Python 3"
    }
  },
  "cells": [
    {
      "cell_type": "code",
      "metadata": {
        "id": "gAGvZs-eCjWj",
        "colab_type": "code",
        "colab": {}
      },
      "source": [
        "### Functioning Programming\n",
        "1. simple\n",
        "2. easy to understand\n",
        "3. better reusability\n",
        "4. length of the program is divided into sub program"
      ],
      "execution_count": 0,
      "outputs": []
    },
    {
      "cell_type": "code",
      "metadata": {
        "id": "XNnHoqjlDSvj",
        "colab_type": "code",
        "colab": {}
      },
      "source": [
        "def nameofFunction(<parameter>)\n",
        "    statements\n",
        "    return"
      ],
      "execution_count": 0,
      "outputs": []
    },
    {
      "cell_type": "code",
      "metadata": {
        "id": "7aJzUI_eEec3",
        "colab_type": "code",
        "outputId": "6b85806e-d82c-4b76-d46f-3e3cdbdd7c1f",
        "colab": {
          "base_uri": "https://localhost:8080/",
          "height": 34
        }
      },
      "source": [
        "# read a number\n",
        "# Print the even digit sum from the number\n",
        "\n",
        "# input : 1234\n",
        "# output : 6(2 +4)\n",
        "\n",
        "def evenDigitSum(n):\n",
        "    s=0\n",
        "    while n != 0:\n",
        "      r = n % 10\n",
        "      if r % 2 == 0:\n",
        "        s = s + r\n",
        "      n = n // 10\n",
        "    return s\n",
        "evenDigitSum(1234)"
      ],
      "execution_count": 0,
      "outputs": [
        {
          "output_type": "execute_result",
          "data": {
            "text/plain": [
              "6"
            ]
          },
          "metadata": {
            "tags": []
          },
          "execution_count": 4
        }
      ]
    },
    {
      "cell_type": "code",
      "metadata": {
        "id": "iXC1KGKwGTOD",
        "colab_type": "code",
        "outputId": "fe71c4d1-6f50-4272-efbb-b4288bc067aa",
        "colab": {
          "base_uri": "https://localhost:8080/",
          "height": 51
        }
      },
      "source": [
        "# define return fuction\n",
        "def square(x):\n",
        "  print(x*x)\n",
        "print(square(4))"
      ],
      "execution_count": 0,
      "outputs": [
        {
          "output_type": "stream",
          "text": [
            "16\n",
            "None\n"
          ],
          "name": "stdout"
        }
      ]
    },
    {
      "cell_type": "code",
      "metadata": {
        "id": "SEaHPPNkGtHO",
        "colab_type": "code",
        "outputId": "32dec24e-b990-4c91-fd22-0b0b538e6a4c",
        "colab": {
          "base_uri": "https://localhost:8080/",
          "height": 34
        }
      },
      "source": [
        "def square(x):\n",
        "    return x*x\n",
        "square(3)"
      ],
      "execution_count": 0,
      "outputs": [
        {
          "output_type": "execute_result",
          "data": {
            "text/plain": [
              "9"
            ]
          },
          "metadata": {
            "tags": []
          },
          "execution_count": 8
        }
      ]
    },
    {
      "cell_type": "code",
      "metadata": {
        "id": "JKtcDI4fICtT",
        "colab_type": "code",
        "outputId": "c92a93f9-9bcc-4fe4-bdc6-878f8ac0d233",
        "colab": {
          "base_uri": "https://localhost:8080/",
          "height": 34
        }
      },
      "source": [
        "def cube(x):\n",
        "  return x*x*x\n",
        "cube(3)"
      ],
      "execution_count": 0,
      "outputs": [
        {
          "output_type": "execute_result",
          "data": {
            "text/plain": [
              "27"
            ]
          },
          "metadata": {
            "tags": []
          },
          "execution_count": 12
        }
      ]
    },
    {
      "cell_type": "code",
      "metadata": {
        "id": "6GUVuHLnJaHs",
        "colab_type": "code",
        "outputId": "78c8ec0d-2d55-43d2-a297-d2e2ddf92589",
        "colab": {
          "base_uri": "https://localhost:8080/",
          "height": 68
        }
      },
      "source": [
        "def multiply(x,y=0):\n",
        "    print(\"value of x=\",x)\n",
        "    print(\"value of y=\",y)\n",
        "    return(x*y)\n",
        "print(multiply(y=2,x=4))"
      ],
      "execution_count": 0,
      "outputs": [
        {
          "output_type": "stream",
          "text": [
            "value of x= 4\n",
            "value of y= 2\n",
            "8\n"
          ],
          "name": "stdout"
        }
      ]
    },
    {
      "cell_type": "code",
      "metadata": {
        "id": "QkajdrArKmh_",
        "colab_type": "code",
        "outputId": "87524db4-6540-4a64-b7a7-1bc26b302f1f",
        "colab": {
          "base_uri": "https://localhost:8080/",
          "height": 34
        }
      },
      "source": [
        "# swap values\n",
        "def swap(x,y):\n",
        "    temp = x\n",
        "    x = y\n",
        "    y = temp\n",
        "    return x,y\n",
        "swap(2,3) "
      ],
      "execution_count": 0,
      "outputs": [
        {
          "output_type": "execute_result",
          "data": {
            "text/plain": [
              "(3, 2)"
            ]
          },
          "metadata": {
            "tags": []
          },
          "execution_count": 24
        }
      ]
    },
    {
      "cell_type": "code",
      "metadata": {
        "id": "7yhEvdwIPB1B",
        "colab_type": "code",
        "outputId": "063cc41d-21d3-48b1-8059-d7b917b36d0c",
        "colab": {
          "base_uri": "https://localhost:8080/",
          "height": 34
        }
      },
      "source": [
        "# Input : 19535\n",
        "# output : 9 (largest digit of the number)\n",
        "def largedigit(n):\n",
        "   large = 0\n",
        "   while n!=0:\n",
        "     r=n%10\n",
        "     if large < r:\n",
        "         large = r\n",
        "     n=n//10\n",
        "   return large\n",
        "largedigit(19535)"
      ],
      "execution_count": 0,
      "outputs": [
        {
          "output_type": "execute_result",
          "data": {
            "text/plain": [
              "9"
            ]
          },
          "metadata": {
            "tags": []
          },
          "execution_count": 35
        }
      ]
    },
    {
      "cell_type": "markdown",
      "metadata": {
        "id": "AG4StAbFU5hJ",
        "colab_type": "text"
      },
      "source": [
        "## For loop\n",
        "#### syntax 1:\n",
        "for i in range(start,stop,step)\n",
        ">statements\n",
        "#### syntax 2\n",
        "for i in Iterableobject:\n",
        ">statements"
      ]
    },
    {
      "cell_type": "code",
      "metadata": {
        "id": "H65ljA7rTvKa",
        "colab_type": "code",
        "outputId": "f84a26c3-d1d0-4b62-ebd4-1c6cc720519b",
        "colab": {
          "base_uri": "https://localhost:8080/",
          "height": 34
        }
      },
      "source": [
        "# Function to print the numbers btw two limits\n",
        "\n",
        "def printseries(lb,ub):\n",
        "    for x in range(lb,ub+1):\n",
        "      print(x,end =\" \")\n",
        "    return\n",
        "printseries(1,10)"
      ],
      "execution_count": 0,
      "outputs": [
        {
          "output_type": "stream",
          "text": [
            "1 2 3 4 5 6 7 8 9 10 "
          ],
          "name": "stdout"
        }
      ]
    },
    {
      "cell_type": "markdown",
      "metadata": {
        "id": "CfNuyIXFVmU8",
        "colab_type": "text"
      },
      "source": [
        "## Collection types\n",
        "#### 1. set\n",
        "#### 2. tuple\n",
        "#### 3.set\n",
        "#### 4.Dictionary"
      ]
    },
    {
      "cell_type": "markdown",
      "metadata": {
        "id": "X4BDuEHWWCWo",
        "colab_type": "text"
      },
      "source": [
        "## List:\n",
        "\n",
        "\n",
        "*  one of the data structure is  phython\n",
        "*  Data structur means to store , sort and Search Options\n",
        "*  its one common data strucrue in phython, the items of list seperated by comma and enclosed in square brackets[]\n",
        "\n",
        "#### Examples:\n",
        "\n",
        "    -list1 = [1,2,3,4,5]\n",
        "    -list2 = [\"Gitam\",1,2]\n",
        "\n",
        "\n",
        "\n"
      ]
    },
    {
      "cell_type": "code",
      "metadata": {
        "id": "YGyvf_dNUnsD",
        "colab_type": "code",
        "outputId": "e5aba29d-7d1b-4603-ae4d-0fe1771aed91",
        "colab": {
          "base_uri": "https://localhost:8080/",
          "height": 136
        }
      },
      "source": [
        "li = [1,8,16,9,2]\n",
        "print(li)#will print all the list items\n",
        "print(li[0])\n",
        "print(li[1])\n",
        "print(li[-5])\n",
        "print(li[2:])\n",
        "print(li[1:4])\n",
        "print(li[-4:-1])"
      ],
      "execution_count": 0,
      "outputs": [
        {
          "output_type": "stream",
          "text": [
            "[1, 8, 16, 9, 2]\n",
            "1\n",
            "8\n",
            "1\n",
            "[16, 9, 2]\n",
            "[8, 16, 9]\n",
            "[8, 16, 9]\n"
          ],
          "name": "stdout"
        }
      ]
    },
    {
      "cell_type": "code",
      "metadata": {
        "id": "qLRjtA1Fa7jP",
        "colab_type": "code",
        "outputId": "f9dd9e6a-63c4-45cf-a5a4-cd9e8d67cf08",
        "colab": {
          "base_uri": "https://localhost:8080/",
          "height": 51
        }
      },
      "source": [
        "# update list\n",
        "li = ['gitam', 1234, 'hyd']\n",
        "print(li)\n",
        "li[1]=4567\n",
        "print(li)"
      ],
      "execution_count": 0,
      "outputs": [
        {
          "output_type": "stream",
          "text": [
            "['gitam', 1234, 'hyd']\n",
            "['gitam', 4567, 'hyd']\n"
          ],
          "name": "stdout"
        }
      ]
    },
    {
      "cell_type": "code",
      "metadata": {
        "id": "OERBAy_ucQBV",
        "colab_type": "code",
        "outputId": "7b374aa9-f330-4e23-8b55-fc1874f244a4",
        "colab": {
          "base_uri": "https://localhost:8080/",
          "height": 51
        }
      },
      "source": [
        "# delete a value of list\n",
        "li = ['gitam', 1234, 2018, 2019 ,'hyd']\n",
        "print(li)\n",
        "del li[3]\n",
        "print(li)"
      ],
      "execution_count": 0,
      "outputs": [
        {
          "output_type": "stream",
          "text": [
            "['gitam', 1234, 2018, 2019, 'hyd']\n",
            "['gitam', 1234, 2018, 'hyd']\n"
          ],
          "name": "stdout"
        }
      ]
    },
    {
      "cell_type": "code",
      "metadata": {
        "id": "C2tQsrOSczmv",
        "colab_type": "code",
        "outputId": "18b8b083-cbf0-440a-b0d8-009f0c0f1376",
        "colab": {
          "base_uri": "https://localhost:8080/",
          "height": 34
        }
      },
      "source": [
        "# basic list operations\n",
        "li = [1,2,3,4,5]\n",
        "#len of the string\n",
        "print(len(li))"
      ],
      "execution_count": 0,
      "outputs": [
        {
          "output_type": "stream",
          "text": [
            "5\n"
          ],
          "name": "stdout"
        }
      ]
    },
    {
      "cell_type": "code",
      "metadata": {
        "id": "6JKGvcYVfjT_",
        "colab_type": "code",
        "outputId": "032df55d-7dc6-4d65-a89c-46d88b58bf2d",
        "colab": {
          "base_uri": "https://localhost:8080/",
          "height": 34
        }
      },
      "source": [
        "if 5 > 10:\n",
        "  print(\"fan\")\n",
        "elif 8 != 9:\n",
        "  print(\"glass\")\n",
        "else :\n",
        "  print(\"cream\")"
      ],
      "execution_count": 0,
      "outputs": [
        {
          "output_type": "stream",
          "text": [
            "glass\n"
          ],
          "name": "stdout"
        }
      ]
    },
    {
      "cell_type": "code",
      "metadata": {
        "id": "8QOm72Wkf2Vg",
        "colab_type": "code",
        "outputId": "fbadcd5e-ba68-4693-dd47-a6e4d699bb59",
        "colab": {
          "base_uri": "https://localhost:8080/",
          "height": 34
        }
      },
      "source": [
        "if False:\n",
        "  print(\"nissan\")\n",
        "elif True:\n",
        "  print(\"4\")\n",
        "elif True:\n",
        "  print(\"bmw\")\n",
        "else :\n",
        "  print(\"audi\")"
      ],
      "execution_count": 0,
      "outputs": [
        {
          "output_type": "stream",
          "text": [
            "4\n"
          ],
          "name": "stdout"
        }
      ]
    }
  ]
}