{
  "nbformat": 4,
  "nbformat_minor": 0,
  "metadata": {
    "colab": {
      "name": "5-12-19",
      "provenance": []
    },
    "kernelspec": {
      "name": "python3",
      "display_name": "Python 3"
    }
  },
  "cells": [
    {
      "cell_type": "code",
      "metadata": {
        "id": "7WAlWDSZJdqI",
        "colab_type": "code",
        "outputId": "65e899fd-5527-47a5-e706-44a406f5f0e4",
        "colab": {
          "base_uri": "https://localhost:8080/",
          "height": 85
        }
      },
      "source": [
        "# Basiic list function\n",
        "li = [1,9,16,25,5] \n",
        "print(max(li))\n",
        "print(min(li))\n",
        "print(sum(li))\n",
        "print(sum(li)//len(li))"
      ],
      "execution_count": 0,
      "outputs": [
        {
          "output_type": "stream",
          "text": [
            "25\n",
            "1\n",
            "56\n",
            "11\n"
          ],
          "name": "stdout"
        }
      ]
    },
    {
      "cell_type": "code",
      "metadata": {
        "id": "bEGWhGwpL_u8",
        "colab_type": "code",
        "outputId": "48d55e86-6cee-44c7-9d96-8ac2cb38515b",
        "colab": {
          "base_uri": "https://localhost:8080/",
          "height": 102
        }
      },
      "source": [
        "li = [1,9,16,25,5]\n",
        "li.append(29) # add the new items  at the end\n",
        "print(li)\n",
        "li.insert(2,56) # add the value in that particular index\n",
        "print(li)\n",
        "li.append(9)\n",
        "print(li)\n",
        "li.count(9) # to count the number of times repeated\n",
        "print(li)\n",
        "li.index(56) # to know the index of the item\n",
        "print(li)"
      ],
      "execution_count": 0,
      "outputs": [
        {
          "output_type": "stream",
          "text": [
            "[1, 9, 16, 25, 5, 29]\n",
            "[1, 9, 56, 16, 25, 5, 29]\n",
            "[1, 9, 56, 16, 25, 5, 29, 9]\n",
            "[1, 9, 56, 16, 25, 5, 29, 9]\n",
            "[1, 9, 56, 16, 25, 5, 29, 9]\n"
          ],
          "name": "stdout"
        }
      ]
    },
    {
      "cell_type": "code",
      "metadata": {
        "id": "cZAomPRzN3Ef",
        "colab_type": "code",
        "outputId": "58722651-0383-4c6f-b543-8bc8b05cb450",
        "colab": {
          "base_uri": "https://localhost:8080/",
          "height": 68
        }
      },
      "source": [
        "# method of list object\n",
        "li = [1,9,16,56,25,5,9]\n",
        "#  li.sort() # sorts the list in ascending order\n",
        "li.sort()\n",
        "print(li)\n",
        "li.pop() # last index value\n",
        "print(li)\n",
        "li.pop(1) # to remove item from particar index\n",
        "print(li)"
      ],
      "execution_count": 0,
      "outputs": [
        {
          "output_type": "stream",
          "text": [
            "[1, 5, 9, 9, 16, 25, 56]\n",
            "[1, 5, 9, 9, 16, 25]\n",
            "[1, 9, 9, 16, 25]\n"
          ],
          "name": "stdout"
        }
      ]
    },
    {
      "cell_type": "code",
      "metadata": {
        "id": "0JlxRTy4PjEX",
        "colab_type": "code",
        "outputId": "f9fbf9e5-8ba6-47e0-b8cd-1a69bb05cc2e",
        "colab": {
          "base_uri": "https://localhost:8080/",
          "height": 34
        }
      },
      "source": [
        "li1 = [1,5,25,56,89]\n",
        "li2 = [1,6,19,25] \n",
        "li2.extend(li1) # to extend the list with another\n",
        "print(li2)"
      ],
      "execution_count": 0,
      "outputs": [
        {
          "output_type": "stream",
          "text": [
            "[1, 6, 19, 25, 1, 5, 25, 56, 89]\n"
          ],
          "name": "stdout"
        }
      ]
    },
    {
      "cell_type": "code",
      "metadata": {
        "id": "me7Vk6AoQseg",
        "colab_type": "code",
        "outputId": "35623583-3d01-46bb-fff5-1613b32a09c1",
        "colab": {
          "base_uri": "https://localhost:8080/",
          "height": 34
        }
      },
      "source": [
        "li1 = [1,6,19,25]\n",
        "li1.reverse() # to reverse the list\n",
        "print(li1)"
      ],
      "execution_count": 0,
      "outputs": [
        {
          "output_type": "stream",
          "text": [
            "[25, 19, 6, 1]\n"
          ],
          "name": "stdout"
        }
      ]
    },
    {
      "cell_type": "code",
      "metadata": {
        "id": "wXrBUK17RhQ3",
        "colab_type": "code",
        "outputId": "717cffd6-7ae4-42bd-ec4d-05a120572245",
        "colab": {
          "base_uri": "https://localhost:8080/",
          "height": 51
        }
      },
      "source": [
        "def largeNumber(li):\n",
        "    li.sort()\n",
        "    return li[-1] # to know the largest number and generic largest number\n",
        "def genericlarge(li,n):\n",
        "    li.sort()\n",
        "    return li[-n] # to\n",
        "li = [19,1,25,6,9,45,22]\n",
        "print(largeNumber(li))\n",
        "print(genericlarge(li,3))"
      ],
      "execution_count": 0,
      "outputs": [
        {
          "output_type": "stream",
          "text": [
            "45\n",
            "22\n"
          ],
          "name": "stdout"
        }
      ]
    },
    {
      "cell_type": "code",
      "metadata": {
        "id": "bwp7RFhDSq-L",
        "colab_type": "code",
        "outputId": "a6b3f2c6-93fe-4714-f0d7-63942b9c1a02",
        "colab": {
          "base_uri": "https://localhost:8080/",
          "height": 51
        }
      },
      "source": [
        "def smallNumber(li): # for smallest and generic smallest number\n",
        "    li.sort()\n",
        "    return li[0]\n",
        "def genericsmall(li,n):\n",
        "    li.sort()\n",
        "    return li[n-1]\n",
        "li = [19,1,25,6,9,45,22]\n",
        "print(smallNumber(li))\n",
        "print(genericsmall(li,3))"
      ],
      "execution_count": 0,
      "outputs": [
        {
          "output_type": "stream",
          "text": [
            "1\n",
            "9\n"
          ],
          "name": "stdout"
        }
      ]
    },
    {
      "cell_type": "code",
      "metadata": {
        "id": "jLeDyPCvVYI8",
        "colab_type": "code",
        "outputId": "788c4bbc-967f-4112-e314-9f1255fdb6d3",
        "colab": {
          "base_uri": "https://localhost:8080/",
          "height": 51
        }
      },
      "source": [
        "li = [19,1,25,6,9,45,22,6] # if there are repeated items\n",
        "li1 = []\n",
        "for i in li:\n",
        "    if i not in li1:\n",
        "      li1.append(i)\n",
        "li1  \n",
        "def smallNumber(li1):\n",
        "    li1.sort()\n",
        "    return li1[0]\n",
        "def genericsmall(li1,n):\n",
        "    li1.sort()\n",
        "    return li1[n-1]\n",
        "print(smallNumber(li1))\n",
        "print(genericsmall(li1,3))   \n",
        "    "
      ],
      "execution_count": 0,
      "outputs": [
        {
          "output_type": "stream",
          "text": [
            "1\n",
            "9\n"
          ],
          "name": "stdout"
        }
      ]
    },
    {
      "cell_type": "markdown",
      "metadata": {
        "id": "zrRWZ3ZWYojc",
        "colab_type": "text"
      },
      "source": [
        "### **Tuples**\n",
        "- parenthesis() --->Tuple and square brackets[]---> list\n",
        "- difference between list and tuple\n",
        "   - list are mutable - can be changed/modified\n",
        "   -used to access and modify, add, delete data\n",
        "   - tuples are immutable - cannot be changed\n",
        "   - used to access data only\n",
        "\n"
      ]
    },
    {
      "cell_type": "code",
      "metadata": {
        "id": "iICyf0YlaPPa",
        "colab_type": "code",
        "outputId": "a3fcdad1-c934-4c7f-c18b-2dd09ada3c27",
        "colab": {
          "base_uri": "https://localhost:8080/",
          "height": 34
        }
      },
      "source": [
        "t1 = (1,2,3,4,5,6)\n",
        "t1\n",
        "print(type(t1),t1[1:5])"
      ],
      "execution_count": 0,
      "outputs": [
        {
          "output_type": "stream",
          "text": [
            "<class 'tuple'> (2, 3, 4, 5)\n"
          ],
          "name": "stdout"
        }
      ]
    },
    {
      "cell_type": "markdown",
      "metadata": {
        "id": "KYtENibxb2fA",
        "colab_type": "text"
      },
      "source": [
        "### **Dictionaries**\n",
        "1.   it works on the of Set Unique data\n",
        "2.   keys, values are the unquie identifiers for the value\n",
        "3.   each kay is seperated fromits value with a colon(:)\n",
        "4.   each key and value are seperate with a comma(,)\n",
        "5.   Dictionary is nhanced with curly braces\n"
      ]
    },
    {
      "cell_type": "code",
      "metadata": {
        "id": "ZokhdEQFa8It",
        "colab_type": "code",
        "outputId": "9ee56eba-96c4-4ed1-8f4a-ab55b4afd8f1",
        "colab": {
          "base_uri": "https://localhost:8080/",
          "height": 34
        }
      },
      "source": [
        "d1 = {\"Name\": \"Gitam\",\"Email Id\":\"gitam@gmail.com\",\"Address\":\"Hyderabad\"}\n",
        "d1"
      ],
      "execution_count": 0,
      "outputs": [
        {
          "output_type": "execute_result",
          "data": {
            "text/plain": [
              "{'Address': 'Hyderabad', 'Email Id': 'gitam@gmail.com', 'Name': 'Gitam'}"
            ]
          },
          "metadata": {
            "tags": []
          },
          "execution_count": 49
        }
      ]
    },
    {
      "cell_type": "code",
      "metadata": {
        "id": "1Kp3ij9bdNkH",
        "colab_type": "code",
        "outputId": "7ce78884-bb3b-44d5-9821-4e14a20f5429",
        "colab": {
          "base_uri": "https://localhost:8080/",
          "height": 34
        }
      },
      "source": [
        "d1[\"Email Id\"]"
      ],
      "execution_count": 0,
      "outputs": [
        {
          "output_type": "execute_result",
          "data": {
            "text/plain": [
              "'gitam@gmail.com'"
            ]
          },
          "metadata": {
            "tags": []
          },
          "execution_count": 50
        }
      ]
    },
    {
      "cell_type": "code",
      "metadata": {
        "id": "VOTTQDIueB6e",
        "colab_type": "code",
        "outputId": "6d9be011-3174-4c30-ea13-b2ead19695dc",
        "colab": {
          "base_uri": "https://localhost:8080/",
          "height": 34
        }
      },
      "source": [
        "d1 = {\"Name\": \"Gitam\",\"Email Id\":\"gitam@gmail.com\",\"Address\":\"Hyderabad\"}\n",
        "d1[\"Email Id\"] = \"gitamPython@gmail.com\" # to update the data\n",
        "d1"
      ],
      "execution_count": 60,
      "outputs": [
        {
          "output_type": "execute_result",
          "data": {
            "text/plain": [
              "{'Address': 'Hyderabad', 'Email Id': 'gitamPython@gmail.com', 'Name': 'Gitam'}"
            ]
          },
          "metadata": {
            "tags": []
          },
          "execution_count": 60
        }
      ]
    },
    {
      "cell_type": "code",
      "metadata": {
        "id": "gXeJ2OIqdhPI",
        "colab_type": "code",
        "outputId": "7542fbc8-38e3-4224-e9b9-0e92670c8cfc",
        "colab": {
          "base_uri": "https://localhost:8080/",
          "height": 85
        }
      },
      "source": [
        "d1[\"Course\"] = \"Python\" # to add an entry\n",
        "d1"
      ],
      "execution_count": 61,
      "outputs": [
        {
          "output_type": "execute_result",
          "data": {
            "text/plain": [
              "{'Address': 'Hyderabad',\n",
              " 'Course': 'Python',\n",
              " 'Email Id': 'gitamPython@gmail.com',\n",
              " 'Name': 'Gitam'}"
            ]
          },
          "metadata": {
            "tags": []
          },
          "execution_count": 61
        }
      ]
    },
    {
      "cell_type": "code",
      "metadata": {
        "id": "Td0LmjRDe0UI",
        "colab_type": "code",
        "colab": {
          "base_uri": "https://localhost:8080/",
          "height": 34
        },
        "outputId": "79fadf6f-d587-47a1-b9a4-80d7f984b58c"
      },
      "source": [
        "del d1[\"Email Id\"] # to delete a key and its value\n",
        "d1"
      ],
      "execution_count": 84,
      "outputs": [
        {
          "output_type": "execute_result",
          "data": {
            "text/plain": [
              "{'Address': 'Hyderabad', 'Course': 'Python', 'Name': 'Gitam'}"
            ]
          },
          "metadata": {
            "tags": []
          },
          "execution_count": 84
        }
      ]
    },
    {
      "cell_type": "code",
      "metadata": {
        "id": "amoKZjTRgCja",
        "colab_type": "code",
        "colab": {
          "base_uri": "https://localhost:8080/",
          "height": 34
        },
        "outputId": "6d92dcd2-c04b-43b2-aea7-135ed9e97234"
      },
      "source": [
        "d1.keys()"
      ],
      "execution_count": 63,
      "outputs": [
        {
          "output_type": "execute_result",
          "data": {
            "text/plain": [
              "dict_keys(['Name', 'Address', 'Course'])"
            ]
          },
          "metadata": {
            "tags": []
          },
          "execution_count": 63
        }
      ]
    },
    {
      "cell_type": "code",
      "metadata": {
        "id": "9Ef6ZziDgZ8R",
        "colab_type": "code",
        "colab": {
          "base_uri": "https://localhost:8080/",
          "height": 34
        },
        "outputId": "e28efa16-87a2-4e73-d568-a287ba21d0d5"
      },
      "source": [
        "d1.values()"
      ],
      "execution_count": 69,
      "outputs": [
        {
          "output_type": "execute_result",
          "data": {
            "text/plain": [
              "dict_values(['Gitam', 'Hyderabad', 'Python'])"
            ]
          },
          "metadata": {
            "tags": []
          },
          "execution_count": 69
        }
      ]
    },
    {
      "cell_type": "code",
      "metadata": {
        "id": "9bERmXntgfZq",
        "colab_type": "code",
        "colab": {
          "base_uri": "https://localhost:8080/",
          "height": 34
        },
        "outputId": "48aab87f-e203-4d0f-99d6-5ce3397f699b"
      },
      "source": [
        "d1.items() # list oftuple of keys and it values"
      ],
      "execution_count": 71,
      "outputs": [
        {
          "output_type": "execute_result",
          "data": {
            "text/plain": [
              "dict_items([('Name', 'Gitam'), ('Address', 'Hyderabad'), ('Course', 'Python')])"
            ]
          },
          "metadata": {
            "tags": []
          },
          "execution_count": 71
        }
      ]
    },
    {
      "cell_type": "markdown",
      "metadata": {
        "id": "D_kaq4n2hxsR",
        "colab_type": "text"
      },
      "source": [
        "###**Strings**\n",
        "\n",
        "*   Strings\n",
        "*   String Slicing\n",
        "*   Fundamental Programming with String in phython\n",
        "\n"
      ]
    },
    {
      "cell_type": "code",
      "metadata": {
        "id": "-Ks-ohnWiTd8",
        "colab_type": "code",
        "colab": {
          "base_uri": "https://localhost:8080/",
          "height": 51
        },
        "outputId": "a0d41946-cf55-4617-db47-b618389a7ab9"
      },
      "source": [
        "s1 = 'Phython'\n",
        "print(s1)\n",
        "print(type(s1))"
      ],
      "execution_count": 85,
      "outputs": [
        {
          "output_type": "stream",
          "text": [
            "Phython\n",
            "<class 'str'>\n"
          ],
          "name": "stdout"
        }
      ]
    },
    {
      "cell_type": "code",
      "metadata": {
        "id": "RidIjgrYic9x",
        "colab_type": "code",
        "colab": {
          "base_uri": "https://localhost:8080/",
          "height": 85
        },
        "outputId": "f9e14e64-952f-46c4-8976-142e7124b29d"
      },
      "source": [
        "s1 = 'Python'\n",
        "print(s1[0]) # Access the first character\n",
        "print(s1[1]) # Access the second character\n",
        "print(s1[5]) # Access the sixth/last charecter\n",
        "print(s1[len(s1)-1]) # Access the last charecter"
      ],
      "execution_count": 88,
      "outputs": [
        {
          "output_type": "stream",
          "text": [
            "P\n",
            "y\n",
            "n\n",
            "n\n"
          ],
          "name": "stdout"
        }
      ]
    },
    {
      "cell_type": "code",
      "metadata": {
        "id": "erPKUYm-jPez",
        "colab_type": "code",
        "colab": {
          "base_uri": "https://localhost:8080/",
          "height": 119
        },
        "outputId": "dd247289-4ce2-4dfb-b114-4f71c3d96d4b"
      },
      "source": [
        "print(s1[-1]) # Access the last character\n",
        "print(s1[-2]) # Access the last second character\n",
        "print(s1[0:2]) # Access the first characters\n",
        "print(s1[:2]) # Access the first characters\n",
        "print(s1[-3]) # Access the last three character\n",
        "print(s1[::-1]) # to reverse the string"
      ],
      "execution_count": 91,
      "outputs": [
        {
          "output_type": "stream",
          "text": [
            "n\n",
            "o\n",
            "Py\n",
            "Py\n",
            "h\n",
            "nohtyP\n"
          ],
          "name": "stdout"
        }
      ]
    },
    {
      "cell_type": "code",
      "metadata": {
        "id": "gjcBMyBVkSgg",
        "colab_type": "code",
        "colab": {
          "base_uri": "https://localhost:8080/",
          "height": 136
        },
        "outputId": "591722a3-e3e5-4c5a-8488-fbf8f9c766ee"
      },
      "source": [
        "print(s1[-1]) # Access the all characters except for first and last\n",
        "print(s1[len(s1)//2]) # Access the middle character\n",
        "print(s1[-1::-1]) # to reverse the string\n",
        "print(s1[-1:-3:-1]) # to access the last two characters in the reverse order\n",
        "# to access the alternate charecters\n",
        "print(s1[::2]) # two characters\n",
        "print(s1[::3]) # three characters\n",
        "print(s1[::-2]) # from reverse order characters"
      ],
      "execution_count": 95,
      "outputs": [
        {
          "output_type": "stream",
          "text": [
            "n\n",
            "h\n",
            "nohtyP\n",
            "no\n",
            "Pto\n",
            "Ph\n",
            "nhy\n"
          ],
          "name": "stdout"
        }
      ]
    },
    {
      "cell_type": "code",
      "metadata": {
        "id": "8PgWOkMgm4pD",
        "colab_type": "code",
        "colab": {
          "base_uri": "https://localhost:8080/",
          "height": 34
        },
        "outputId": "226bf377-ff52-41ca-d372-719e194e7be7"
      },
      "source": [
        "#  reversing the string\n",
        "def reversingastring(str):\n",
        "    return str[::-1]\n",
        "reversingastring(\"programming\")"
      ],
      "execution_count": 97,
      "outputs": [
        {
          "output_type": "execute_result",
          "data": {
            "text/plain": [
              "'gnimmargorp'"
            ]
          },
          "metadata": {
            "tags": []
          },
          "execution_count": 97
        }
      ]
    },
    {
      "cell_type": "code",
      "metadata": {
        "id": "7UXfRVyAnfAA",
        "colab_type": "code",
        "colab": {
          "base_uri": "https://localhost:8080/",
          "height": 51
        },
        "outputId": "cd911e78-c785-45d9-9e1d-0911762b520d"
      },
      "source": [
        "# check whether the string is palindrome or not\n",
        "def palindrome(str):\n",
        "    if str == str[::-1]:\n",
        "     return True\n",
        "    else:\n",
        "      return False\n",
        "    return\n",
        "print(palindrome(\"python\"))\n",
        "print(palindrome(\"ganag\"))"
      ],
      "execution_count": 100,
      "outputs": [
        {
          "output_type": "stream",
          "text": [
            "False\n",
            "True\n"
          ],
          "name": "stdout"
        }
      ]
    },
    {
      "cell_type": "code",
      "metadata": {
        "id": "jBCcNAvcoy0d",
        "colab_type": "code",
        "colab": {
          "base_uri": "https://localhost:8080/",
          "height": 34
        },
        "outputId": "eb502c9b-e3c4-4fd5-f542-199f53beb539"
      },
      "source": [
        "def palindrome(str):\n",
        "    if str == str[::-1]:\n",
        "     print(\"palindrome\")\n",
        "    else:\n",
        "      print(\"not a palindrome\")\n",
        "    return\n",
        "palindrome(\"python\")"
      ],
      "execution_count": 102,
      "outputs": [
        {
          "output_type": "stream",
          "text": [
            "not a palindrome\n"
          ],
          "name": "stdout"
        }
      ]
    },
    {
      "cell_type": "markdown",
      "metadata": {
        "id": "a4pkiApapeDd",
        "colab_type": "text"
      },
      "source": [
        "###**String Built-in methos:**\n",
        "1. upper() --- will convert into upper case\n",
        "1. lower() --- will convert into lower case"
      ]
    },
    {
      "cell_type": "code",
      "metadata": {
        "id": "gipvW75HpdbE",
        "colab_type": "code",
        "colab": {
          "base_uri": "https://localhost:8080/",
          "height": 51
        },
        "outputId": "16339c24-b198-40ba-ae57-e66fe1426032"
      },
      "source": [
        "s1 = 'Phython'\n",
        "print(s1.upper())\n",
        "print(s1.lower())"
      ],
      "execution_count": 103,
      "outputs": [
        {
          "output_type": "stream",
          "text": [
            "PHYTHON\n",
            "phython\n"
          ],
          "name": "stdout"
        }
      ]
    },
    {
      "cell_type": "markdown",
      "metadata": {
        "id": "MgGMWXjlqK3i",
        "colab_type": "text"
      },
      "source": [
        "###**String Boolean Built-in methods**\n",
        "1. islower() --- True if the string have all character lower case\n",
        "2. isupper() --- True if the string have all character upper case\n",
        "3. istitle() --- True if the string in title case\n",
        "4. isnumeric() --- True if the string is numeric\n",
        "5. isalpha() --- True if the string only alphabets\n",
        "6. isspace --- True if string is space\n"
      ]
    },
    {
      "cell_type": "code",
      "metadata": {
        "id": "WnZ9P3hgqJ2T",
        "colab_type": "code",
        "colab": {
          "base_uri": "https://localhost:8080/",
          "height": 119
        },
        "outputId": "ba1bb61d-2bde-4d4a-c4fe-2a428352677e"
      },
      "source": [
        "s1='python'\n",
        "print(s1.islower())\n",
        "print(s1.isupper())\n",
        "print(s1.istitle())\n",
        "print(s1.isnumeric())\n",
        "print(s1.isalpha())\n",
        "print(s1.isspace())\n"
      ],
      "execution_count": 104,
      "outputs": [
        {
          "output_type": "stream",
          "text": [
            "True\n",
            "False\n",
            "False\n",
            "False\n",
            "True\n",
            "False\n"
          ],
          "name": "stdout"
        }
      ]
    },
    {
      "cell_type": "code",
      "metadata": {
        "id": "Uh1_j8t4r9E3",
        "colab_type": "code",
        "colab": {
          "base_uri": "https://localhost:8080/",
          "height": 51
        },
        "outputId": "cddaab2d-dd6d-41a3-ce82-9f408bb4e444"
      },
      "source": [
        "s1=\"python\"\n",
        "print(s1.islower())\n",
        "print(s1.isupper())\n"
      ],
      "execution_count": 105,
      "outputs": [
        {
          "output_type": "stream",
          "text": [
            "True\n",
            "False\n"
          ],
          "name": "stdout"
        }
      ]
    },
    {
      "cell_type": "code",
      "metadata": {
        "id": "dQhNN9cNsJ_-",
        "colab_type": "code",
        "colab": {
          "base_uri": "https://localhost:8080/",
          "height": 51
        },
        "outputId": "426f3145-d5e7-4531-bff3-a1a348919078"
      },
      "source": [
        "s1 = \"Py123456\"\n",
        "s2 = \"Python\"\n",
        "print(s1.isalpha())\n",
        "print(s2.isalpha())\n"
      ],
      "execution_count": 106,
      "outputs": [
        {
          "output_type": "stream",
          "text": [
            "False\n",
            "True\n"
          ],
          "name": "stdout"
        }
      ]
    },
    {
      "cell_type": "code",
      "metadata": {
        "id": "yYDZVKv8s3QG",
        "colab_type": "code",
        "colab": {
          "base_uri": "https://localhost:8080/",
          "height": 51
        },
        "outputId": "43f6129d-061f-4285-9c5c-419d910f5590"
      },
      "source": [
        "s1 = \" \"\n",
        "s2 = \"py123\"\n",
        "print(s1.isspace())\n",
        "print(s2.isspace())"
      ],
      "execution_count": 108,
      "outputs": [
        {
          "output_type": "stream",
          "text": [
            "True\n",
            "False\n"
          ],
          "name": "stdout"
        }
      ]
    },
    {
      "cell_type": "markdown",
      "metadata": {
        "id": "uSL-VXiztDQ2",
        "colab_type": "text"
      },
      "source": [
        "##  **String Method**\n",
        "- join() -- Methods will concatinates the two strings\n",
        "- split() -- split() returns the list of strings separated by whitespace\n",
        "- replace() --replaces the specific word or character with the new word or character"
      ]
    },
    {
      "cell_type": "code",
      "metadata": {
        "id": "m1GyEDAPtC1y",
        "colab_type": "code",
        "colab": {
          "base_uri": "https://localhost:8080/",
          "height": 34
        },
        "outputId": "c3b12524-7aa4-4ee6-b734-35890bd6c7c5"
      },
      "source": [
        "s1 = \"python\"\n",
        "print(\" \".join(s1))"
      ],
      "execution_count": 113,
      "outputs": [
        {
          "output_type": "stream",
          "text": [
            "p y t h o n\n"
          ],
          "name": "stdout"
        }
      ]
    },
    {
      "cell_type": "code",
      "metadata": {
        "id": "1iZWdbqSuJyP",
        "colab_type": "code",
        "colab": {
          "base_uri": "https://localhost:8080/",
          "height": 34
        },
        "outputId": "c4ae3a4a-6c30-49d6-ede8-8eac761060e6"
      },
      "source": [
        "s2 = \"Python Programming is easy to learn\"\n",
        "print(s2.split())"
      ],
      "execution_count": 114,
      "outputs": [
        {
          "output_type": "stream",
          "text": [
            "['Python', 'Programming', 'is', 'easy', 'to', 'learn']\n"
          ],
          "name": "stdout"
        }
      ]
    },
    {
      "cell_type": "code",
      "metadata": {
        "id": "Vx8aavdOuyQM",
        "colab_type": "code",
        "colab": {
          "base_uri": "https://localhost:8080/",
          "height": 34
        },
        "outputId": "764c1ab5-d268-45fa-efac-0b2df359affb"
      },
      "source": [
        "s2 = \"Python Programming is easy to learn\"\n",
        "print(s2.split('a'))"
      ],
      "execution_count": 116,
      "outputs": [
        {
          "output_type": "stream",
          "text": [
            "['Python Progr', 'mming is e', 'sy to le', 'rn']\n"
          ],
          "name": "stdout"
        }
      ]
    },
    {
      "cell_type": "code",
      "metadata": {
        "id": "zOW8uAjNvA_o",
        "colab_type": "code",
        "colab": {
          "base_uri": "https://localhost:8080/",
          "height": 68
        },
        "outputId": "f7490c6c-4e92-4425-b2a6-f90d729af7f2"
      },
      "source": [
        "s2 = \"Python Programming is Easy to Learn\"\n",
        "print(len(s2))\n",
        "li = s2.split() # split the string -- list objects\n",
        "print(li)\n",
        "print(len(li))"
      ],
      "execution_count": 124,
      "outputs": [
        {
          "output_type": "stream",
          "text": [
            "35\n",
            "['Python', 'Programming', 'is', 'Easy', 'to', 'Learn']\n",
            "6\n"
          ],
          "name": "stdout"
        }
      ]
    },
    {
      "cell_type": "code",
      "metadata": {
        "id": "tF6paikIx87a",
        "colab_type": "code",
        "colab": {
          "base_uri": "https://localhost:8080/",
          "height": 34
        },
        "outputId": "2d8c5190-84f8-4c7e-c739-5c4b6426dec1"
      },
      "source": [
        "s3=[\"Python\",\"dshdh\",\"aopaoaoia\"]\n",
        "\"........\".join(s3)\n"
      ],
      "execution_count": 125,
      "outputs": [
        {
          "output_type": "execute_result",
          "data": {
            "text/plain": [
              "'Python........dshdh........aopaoaoia'"
            ]
          },
          "metadata": {
            "tags": []
          },
          "execution_count": 125
        }
      ]
    },
    {
      "cell_type": "code",
      "metadata": {
        "id": "zTqFtYG9yHT-",
        "colab_type": "code",
        "colab": {
          "base_uri": "https://localhost:8080/",
          "height": 102
        },
        "outputId": "64a5f4ff-099d-4da7-e9db-f50035f04c3a"
      },
      "source": [
        "li=s2.split()\n",
        "print(s2.split())\n",
        "print(s2.split('a'))\n",
        "print(s2.split('m'))\n",
        "print(len(s2))\n",
        "print(len(li))\n"
      ],
      "execution_count": 126,
      "outputs": [
        {
          "output_type": "stream",
          "text": [
            "['Python', 'Programming', 'is', 'Easy', 'to', 'Learn']\n",
            "['Python Progr', 'mming is E', 'sy to Le', 'rn']\n",
            "['Python Progra', '', 'ing is Easy to Learn']\n",
            "35\n",
            "6\n"
          ],
          "name": "stdout"
        }
      ]
    },
    {
      "cell_type": "code",
      "metadata": {
        "id": "UzaI6_-uws8c",
        "colab_type": "code",
        "colab": {
          "base_uri": "https://localhost:8080/",
          "height": 54
        },
        "outputId": "4ef5fee1-cfc8-480d-9028-17b593c6cdf9"
      },
      "source": [
        "s2 = \"Python Programming is easy to learn\"\n",
        "li = list(s2)\n",
        "print(li)"
      ],
      "execution_count": 121,
      "outputs": [
        {
          "output_type": "stream",
          "text": [
            "['P', 'y', 't', 'h', 'o', 'n', ' ', 'P', 'r', 'o', 'g', 'r', 'a', 'm', 'm', 'i', 'n', 'g', ' ', 'i', 's', ' ', 'e', 'a', 's', 'y', ' ', 't', 'o', ' ', 'l', 'e', 'a', 'r', 'n']\n"
          ],
          "name": "stdout"
        }
      ]
    },
    {
      "cell_type": "code",
      "metadata": {
        "id": "qi1XqQCKvXAw",
        "colab_type": "code",
        "colab": {
          "base_uri": "https://localhost:8080/",
          "height": 34
        },
        "outputId": "12e7cf7b-7921-4efd-e719-fa9278d34e67"
      },
      "source": [
        "s2 = \"Python Programming is easy to learn\"\n",
        "print(s2.replace(\"gra\",\"Application\"))"
      ],
      "execution_count": 120,
      "outputs": [
        {
          "output_type": "stream",
          "text": [
            "Python ProApplicationmming is easy to learn\n"
          ],
          "name": "stdout"
        }
      ]
    }
  ]
}